{
 "cells": [
  {
   "cell_type": "code",
   "execution_count": 1,
   "metadata": {},
   "outputs": [],
   "source": [
    "import numpy as np\n",
    "import pandas as pd\n",
    "import matplotlib.pyplot as plt"
   ]
  },
  {
   "cell_type": "markdown",
   "metadata": {},
   "source": [
    "<h3>Question 1 </h3>\n",
    "\n",
    "Answer A: If Si,max is not exceeded, the Pe into the soil will be zero"
   ]
  },
  {
   "cell_type": "code",
   "execution_count": 2,
   "metadata": {},
   "outputs": [
    {
     "data": {
      "text/plain": [
       "'Use this code block if you have the Camel Data files saved locally'"
      ]
     },
     "execution_count": 2,
     "metadata": {},
     "output_type": "execute_result"
    }
   ],
   "source": [
    "'''Use this code block if you have the Camel Data files saved locally'''\n",
    "# #Load in Precipitation Data\n",
    "# df_camel = pd.read_csv('../Data/Prep_Camel_SILO.csv')\n",
    "# df_camel['time'] = pd.to_datetime(df_camel[['year', 'month', 'day']])\n",
    "# df_camel.drop(['day', 'year', 'month'], axis= 1, inplace = True)\n",
    "# df_camel.set_index('time', inplace=True)\n",
    "# df_camel = df_camel['212260']\n",
    "\n",
    "# #Load in Camel Evap Data\n",
    "# df_evap = pd.read_csv('../Data/evap_syn_SILO.csv')\n",
    "# df_evap['time'] = pd.to_datetime(df_evap[['year', 'month', 'day']])\n",
    "# df_evap.drop(['day', 'year', 'month'], axis= 1, inplace = True)\n",
    "# df_evap.set_index('time', inplace=True)\n",
    "# df_evap = df_evap['212260']\n",
    "\n",
    "# df_camel_data = pd.concat([df_camel, df_evap], axis = 1)\n",
    "\n",
    "# df_camel_data.columns = ['P', 'Evap']\n",
    "# df_camel_data.index = df_camel_data.index.date"
   ]
  },
  {
   "cell_type": "code",
   "execution_count": 3,
   "metadata": {},
   "outputs": [],
   "source": [
    "'''Use this code block when you are working from Github'''\n",
    "#Load in Precipitation Data\n",
    "df_camel = pd.read_csv('../Data/Prep_Camel_212260.csv')\n",
    "df_camel['time'] = pd.to_datetime(df_camel['time'])\n",
    "df_camel.set_index('time', inplace=True)\n",
    "\n",
    "#Load in Camel Evap Data\n",
    "df_evap = pd.read_csv('../Data/Evap_Camel_212260.csv')\n",
    "df_evap['time'] = pd.to_datetime(df_evap['time'])\n",
    "df_evap.set_index('time', inplace=True)\n",
    "\n",
    "df_camel_data = pd.concat([df_camel, df_evap], axis = 1)\n",
    "\n",
    "df_camel_data.columns = ['P', 'Evap']\n",
    "df_camel_data.index = df_camel_data.index.date"
   ]
  },
  {
   "cell_type": "code",
   "execution_count": 4,
   "metadata": {},
   "outputs": [
    {
     "data": {
      "text/html": [
       "<div>\n",
       "<style scoped>\n",
       "    .dataframe tbody tr th:only-of-type {\n",
       "        vertical-align: middle;\n",
       "    }\n",
       "\n",
       "    .dataframe tbody tr th {\n",
       "        vertical-align: top;\n",
       "    }\n",
       "\n",
       "    .dataframe thead th {\n",
       "        text-align: right;\n",
       "    }\n",
       "</style>\n",
       "<table border=\"1\" class=\"dataframe\">\n",
       "  <thead>\n",
       "    <tr style=\"text-align: right;\">\n",
       "      <th></th>\n",
       "      <th>Q</th>\n",
       "      <th>P</th>\n",
       "      <th>Evap</th>\n",
       "    </tr>\n",
       "  </thead>\n",
       "  <tbody>\n",
       "    <tr>\n",
       "      <th>1968-05-19</th>\n",
       "      <td>3.009</td>\n",
       "      <td>9.996204</td>\n",
       "      <td>1.175430</td>\n",
       "    </tr>\n",
       "    <tr>\n",
       "      <th>1968-05-20</th>\n",
       "      <td>3.104</td>\n",
       "      <td>1.278546</td>\n",
       "      <td>1.269269</td>\n",
       "    </tr>\n",
       "    <tr>\n",
       "      <th>1968-05-21</th>\n",
       "      <td>3.425</td>\n",
       "      <td>0.000000</td>\n",
       "      <td>1.193374</td>\n",
       "    </tr>\n",
       "    <tr>\n",
       "      <th>1968-05-22</th>\n",
       "      <td>3.934</td>\n",
       "      <td>0.707056</td>\n",
       "      <td>1.236318</td>\n",
       "    </tr>\n",
       "    <tr>\n",
       "      <th>1968-05-23</th>\n",
       "      <td>3.246</td>\n",
       "      <td>1.862787</td>\n",
       "      <td>0.983918</td>\n",
       "    </tr>\n",
       "    <tr>\n",
       "      <th>...</th>\n",
       "      <td>...</td>\n",
       "      <td>...</td>\n",
       "      <td>...</td>\n",
       "    </tr>\n",
       "    <tr>\n",
       "      <th>2018-12-27</th>\n",
       "      <td>0.900</td>\n",
       "      <td>0.000000</td>\n",
       "      <td>9.363467</td>\n",
       "    </tr>\n",
       "    <tr>\n",
       "      <th>2018-12-28</th>\n",
       "      <td>0.755</td>\n",
       "      <td>0.096275</td>\n",
       "      <td>9.325681</td>\n",
       "    </tr>\n",
       "    <tr>\n",
       "      <th>2018-12-29</th>\n",
       "      <td>0.654</td>\n",
       "      <td>0.349248</td>\n",
       "      <td>9.475430</td>\n",
       "    </tr>\n",
       "    <tr>\n",
       "      <th>2018-12-30</th>\n",
       "      <td>0.582</td>\n",
       "      <td>0.000000</td>\n",
       "      <td>9.073066</td>\n",
       "    </tr>\n",
       "    <tr>\n",
       "      <th>2018-12-31</th>\n",
       "      <td>0.485</td>\n",
       "      <td>0.000000</td>\n",
       "      <td>7.176039</td>\n",
       "    </tr>\n",
       "  </tbody>\n",
       "</table>\n",
       "<p>18489 rows × 3 columns</p>\n",
       "</div>"
      ],
      "text/plain": [
       "                Q         P      Evap\n",
       "1968-05-19  3.009  9.996204  1.175430\n",
       "1968-05-20  3.104  1.278546  1.269269\n",
       "1968-05-21  3.425  0.000000  1.193374\n",
       "1968-05-22  3.934  0.707056  1.236318\n",
       "1968-05-23  3.246  1.862787  0.983918\n",
       "...           ...       ...       ...\n",
       "2018-12-27  0.900  0.000000  9.363467\n",
       "2018-12-28  0.755  0.096275  9.325681\n",
       "2018-12-29  0.654  0.349248  9.475430\n",
       "2018-12-30  0.582  0.000000  9.073066\n",
       "2018-12-31  0.485  0.000000  7.176039\n",
       "\n",
       "[18489 rows x 3 columns]"
      ]
     },
     "execution_count": 4,
     "metadata": {},
     "output_type": "execute_result"
    }
   ],
   "source": [
    "#Load in Discharge Data\n",
    "df = pd.read_csv('../Data/5202145_Q_Day.Cmd.txt', sep=';', skiprows= 36, usecols=[0,2], index_col=0, encoding='latin-1', parse_dates=True)\n",
    "df.rename(columns={' Value': 'Q'}, inplace=True)\n",
    "df.index = df.index.date\n",
    "df = pd.merge(df, df_camel_data, left_index=True, right_index=True, how = 'inner')\n",
    "df.dropna(axis = 0, inplace=True)\n",
    "\n",
    "df"
   ]
  },
  {
   "cell_type": "code",
   "execution_count": 5,
   "metadata": {},
   "outputs": [],
   "source": [
    "df['P'] = df['P'] * 75000**2 / 1000\n",
    "df['Evap'] = df['Evap'] * 75000**2 / 1000\n",
    "df['Q'] = df['Q'] * 60*24"
   ]
  },
  {
   "cell_type": "code",
   "execution_count": 6,
   "metadata": {},
   "outputs": [
    {
     "data": {
      "text/plain": [
       "0.718416529216734"
      ]
     },
     "execution_count": 6,
     "metadata": {},
     "output_type": "execute_result"
    }
   ],
   "source": [
    "P_C1 = df['P'].values\n",
    "EP_C1 = df['Evap'].values\n",
    "\n",
    "\n",
    "#Pe in Germany\n",
    "Si_max = 2.5 * 75000**2 / 1000\n",
    "Si_1 = np.zeros(len(P_C1))\n",
    "Pe_1 = np.zeros(len(P_C1))\n",
    "\n",
    "for i in range(len(Si_1)):\n",
    "    if i == 0:\n",
    "        Si_1[i] = 0 + P_C1[i]\n",
    "    else:\n",
    "        Si_1[i] = Si_1[i-1] + P_C1[i]\n",
    "\n",
    "    if Si_1[i] >= Si_max:\n",
    "        Pe_1[i] = Si_1[i] - Si_max\n",
    "        Si_1[i] = Si_max\n",
    "        \n",
    "    Si_1[i] -= EP_C1[i]\n",
    "    if Si_1[i] <=0:\n",
    "        Si_1[i] = 0\n",
    "\n",
    "df['Si'] = Si_1\n",
    "df['Pe'] = Pe_1\n",
    "\n",
    "ratio_1 = df['Pe'].mean() /P_C1.mean()\n",
    "ratio_1\n"
   ]
  },
  {
   "cell_type": "markdown",
   "metadata": {},
   "source": [
    "<h3> Question 2 </h3>"
   ]
  },
  {
   "cell_type": "code",
   "execution_count": 7,
   "metadata": {},
   "outputs": [
    {
     "name": "stderr",
     "output_type": "stream",
     "text": [
      "C:\\Users\\Public\\Documents\\Wondershare\\CreatorTemp\\ipykernel_42872\\2411891374.py:9: FutureWarning: Series.__getitem__ treating keys as positions is deprecated. In a future version, integer keys will always be treated as labels (consistent with DataFrame behavior). To access a value by position, use `ser.iloc[pos]`\n",
      "  SD_min = min(0, p_forest[i] - ET_daily_forest[i])\n",
      "C:\\Users\\Public\\Documents\\Wondershare\\CreatorTemp\\ipykernel_42872\\2411891374.py:11: FutureWarning: Series.__getitem__ treating keys as positions is deprecated. In a future version, integer keys will always be treated as labels (consistent with DataFrame behavior). To access a value by position, use `ser.iloc[pos]`\n",
      "  SD_min = min(0, (p_forest[i] - ET_daily_forest[i] + SD_min_forest[i -1]))\n"
     ]
    },
    {
     "name": "stdout",
     "output_type": "stream",
     "text": [
      "12635917456.944271\n"
     ]
    }
   ],
   "source": [
    "#Forested\n",
    "p_forest  = df['P'].values\n",
    "ET_avg_forest = df['P'].mean() - df['Q'].mean()\n",
    "ET_daily_forest = df['Evap'] / df['Evap'].mean() * ET_avg_forest\n",
    "\n",
    "SD_min_forest = np.zeros(len(p_forest))\n",
    "for i in range(len(p_forest)):\n",
    "    if i == 0:\n",
    "        SD_min = min(0, p_forest[i] - ET_daily_forest[i])\n",
    "    else:\n",
    "        SD_min = min(0, (p_forest[i] - ET_daily_forest[i] + SD_min_forest[i -1]))\n",
    "    SD_min_forest[i] = SD_min\n",
    "\n",
    "\n",
    "df['Deficit'] = SD_min_forest\n",
    "SD_forest_year  = np.max(-SD_min_forest)\n",
    "print(SD_forest_year)\n",
    "\n",
    "\n",
    "\n",
    "\n"
   ]
  },
  {
   "cell_type": "code",
   "execution_count": 8,
   "metadata": {},
   "outputs": [
    {
     "data": {
      "image/png": "[encoded data removed]",
      "text/plain": [
       "<Figure size 640x480 with 1 Axes>"
      ]
     },
     "metadata": {},
     "output_type": "display_data"
    }
   ],
   "source": [
    "ETP_forest = ET_avg_forest / df['P'].mean()\n",
    "EPP_forest = df['Evap'].mean() / df['P'].mean()\n",
    "\n",
    "\n",
    "E_p = np.array([0,1])\n",
    "E_a = np.array([0,1])\n",
    "E_p2 = np.arange(1, 6)\n",
    "E_a2 = np.ones(len(E_p2))\n",
    "\n",
    "\n",
    "plt.plot(E_p, E_a, 'r', label = 'Energy Limit')\n",
    "plt.plot(E_p2, E_a2, 'b', label = 'Water Limit')\n",
    "plt.scatter(EPP_forest, ETP_forest, label = '520145')\n",
    "plt.grid()\n",
    "plt.legend()\n",
    "plt.xlabel('EP/P [-]')\n",
    "plt.ylabel('ET/P [-]')\n",
    "plt.show()\n",
    "\n"
   ]
  },
  {
   "cell_type": "code",
   "execution_count": null,
   "metadata": {},
   "outputs": [],
   "source": []
  }
 ],
 "metadata": {
  "kernelspec": {
   "display_name": "mude-base",
   "language": "python",
   "name": "python3"
  },
  "language_info": {
   "codemirror_mode": {
    "name": "ipython",
    "version": 3
   },
   "file_extension": ".py",
   "mimetype": "text/x-python",
   "name": "python",
   "nbconvert_exporter": "python",
   "pygments_lexer": "ipython3",
   "version": "3.12.4"
  }
 },
 "nbformat": 4,
 "nbformat_minor": 2
}
